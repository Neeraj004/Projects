{
 "cells": [
  {
   "cell_type": "markdown",
   "metadata": {},
   "source": [
    "# PNEUMONIA PREDICTION USING CNN ALGORITHM"
   ]
  },
  {
   "cell_type": "markdown",
   "metadata": {
    "id": "IzDiO2qLF-V7"
   },
   "source": [
    "## Train Data\n"
   ]
  },
  {
   "cell_type": "code",
   "execution_count": 1,
   "metadata": {
    "id": "U10ggqg0Ggkw"
   },
   "outputs": [],
   "source": [
    "#importing libraries\n",
    "import os\n",
    "from skimage import data\n",
    "import matplotlib.pyplot as plt\n",
    "import numpy as np\n",
    "import pandas as pd\n",
    "from scipy import misc\n",
    "from PIL import Image\n",
    "import imageio\n",
    "from skimage.transform import rescale,resize\n",
    "import tensorflow as tf\n",
    "from skimage import io"
   ]
  },
  {
   "cell_type": "code",
   "execution_count": 2,
   "metadata": {
    "colab": {
     "base_uri": "https://localhost:8080/"
    },
    "id": "my68qKUfh4N7",
    "outputId": "3991fd4f-0231-43e7-cb25-2ad8e7ba560f"
   },
   "outputs": [
    {
     "name": "stdout",
     "output_type": "stream",
     "text": [
      "NORMAL\n",
      "PNEUMONIA\n"
     ]
    }
   ],
   "source": [
    "#Loading the train images from train dataset\n",
    "x=[]\n",
    "y=[]\n",
    "base_path=\"C:/Users/neera/Downloads/Data/train\"\n",
    "for child in os.listdir(base_path):\n",
    "    print(child)\n",
    "    sub_path=os.path.join(base_path,child)\n",
    "    if os.path.isdir(sub_path):\n",
    "        for xray in os.listdir(sub_path):\n",
    "            im=Image.open(os.path.join(sub_path,xray))\n",
    "            im=im.convert(\"RGB\")\n",
    "            im=np.array(im.resize((224,224)))\n",
    "            im=im.reshape([224,224,3])#converting all images into same dimension\n",
    "            im=np.array(im)\n",
    "            x.append(im)\n",
    "            y.append(child)"
   ]
  },
  {
   "cell_type": "code",
   "execution_count": 3,
   "metadata": {
    "colab": {
     "base_uri": "https://localhost:8080/"
    },
    "id": "9RbPbG2oA7gC",
    "outputId": "b2996f4a-8fcc-4d20-e76e-81fd4c913e71"
   },
   "outputs": [
    {
     "name": "stdout",
     "output_type": "stream",
     "text": [
      "NO: of NORMAL X-rays in train dataset : 1266\n",
      "NO: of PNEUMONIA X-rays in train dataset : 3418\n"
     ]
    }
   ],
   "source": [
    "print('NO: of NORMAL X-rays in train dataset :',y.count(\"NORMAL\"))\n",
    "print('NO: of PNEUMONIA X-rays in train dataset :',y.count(\"PNEUMONIA\"))"
   ]
  },
  {
   "cell_type": "code",
   "execution_count": 4,
   "metadata": {
    "id": "ex7Iqbleq0Fh"
   },
   "outputs": [
    {
     "name": "stdout",
     "output_type": "stream",
     "text": [
      "(4684, 224, 224, 3)\n"
     ]
    }
   ],
   "source": [
    "#Converting the values into Float \n",
    "im_arr=np.asarray(x).astype('float32')\n",
    "im_arr=im_arr/np.max(im_arr)#Normalizing values to be between 0 and 1\n",
    "print(im_arr.shape)"
   ]
  },
  {
   "cell_type": "code",
   "execution_count": 5,
   "metadata": {
    "colab": {
     "base_uri": "https://localhost:8080/"
    },
    "id": "YamX9FlAuoNW",
    "outputId": "3fb8141e-202f-4efb-fce9-d41a9483dd06"
   },
   "outputs": [
    {
     "data": {
      "text/plain": [
       "(4684, 1)"
      ]
     },
     "execution_count": 5,
     "metadata": {},
     "output_type": "execute_result"
    }
   ],
   "source": [
    "from sklearn.preprocessing import LabelBinarizer\n",
    "lb=LabelBinarizer()\n",
    "y=lb.fit_transform(y)\n",
    "y.shape"
   ]
  },
  {
   "cell_type": "code",
   "execution_count": 7,
   "metadata": {},
   "outputs": [],
   "source": [
    "from sklearn.model_selection import train_test_split\n",
    "x_train,x_val,y_train,y_val=train_test_split(im_arr,y,test_size=0.2,random_state=42,stratify=y)"
   ]
  },
  {
   "cell_type": "markdown",
   "metadata": {},
   "source": [
    "## Evaluation Data"
   ]
  },
  {
   "cell_type": "code",
   "execution_count": 8,
   "metadata": {},
   "outputs": [
    {
     "name": "stdout",
     "output_type": "stream",
     "text": [
      "NORMAL\n",
      "PNEUMONIA\n"
     ]
    }
   ],
   "source": [
    "#Loading the train images from train dataset\n",
    "x1=[]\n",
    "y1=[]\n",
    "base_path=\"C:/Users/neera/Downloads/Data/eval\"\n",
    "for child in os.listdir(base_path):\n",
    "    print(child)\n",
    "    sub_path=os.path.join(base_path,child)\n",
    "    if os.path.isdir(sub_path):\n",
    "        for xray in os.listdir(sub_path):\n",
    "            im=Image.open(os.path.join(sub_path,xray))\n",
    "            im=im.convert(\"RGB\")\n",
    "            im=np.array(im.resize((224,224)))\n",
    "            im=im.reshape([224,224,3])#converting all images into same dimension\n",
    "            im=np.array(im)\n",
    "            x1.append(im)\n",
    "            y1.append(child)"
   ]
  },
  {
   "cell_type": "code",
   "execution_count": 11,
   "metadata": {},
   "outputs": [
    {
     "name": "stdout",
     "output_type": "stream",
     "text": [
      "NO: of NORMAL X-rays in train dataset : 234\n",
      "NO: of PNEUMONIA X-rays in train dataset : 390\n"
     ]
    }
   ],
   "source": [
    "print('NO: of NORMAL X-rays in train dataset :',y1.count(\"NORMAL\"))\n",
    "print('NO: of PNEUMONIA X-rays in train dataset :',y1.count(\"PNEUMONIA\"))"
   ]
  },
  {
   "cell_type": "code",
   "execution_count": 12,
   "metadata": {},
   "outputs": [
    {
     "name": "stdout",
     "output_type": "stream",
     "text": [
      "(624, 224, 224, 3)\n"
     ]
    }
   ],
   "source": [
    "#Converting the values into Float \n",
    "x_eval=np.asarray(x1).astype('float32')\n",
    "x_eval=x_eval/np.max(x_eval)#Normalizing values to be between 0 and 1\n",
    "print(x_eval.shape)"
   ]
  },
  {
   "cell_type": "code",
   "execution_count": 13,
   "metadata": {},
   "outputs": [
    {
     "data": {
      "text/plain": [
       "(624, 1)"
      ]
     },
     "execution_count": 13,
     "metadata": {},
     "output_type": "execute_result"
    }
   ],
   "source": [
    "from sklearn.preprocessing import LabelBinarizer\n",
    "lb=LabelBinarizer()\n",
    "y1=lb.fit_transform(y1)\n",
    "y1.shape"
   ]
  },
  {
   "cell_type": "markdown",
   "metadata": {
    "id": "rRvyacLSGOrJ"
   },
   "source": [
    "## Model Building"
   ]
  },
  {
   "cell_type": "code",
   "execution_count": 14,
   "metadata": {
    "id": "mG9EuGc3xTHE"
   },
   "outputs": [
    {
     "name": "stderr",
     "output_type": "stream",
     "text": [
      "C:\\Users\\neera\\AppData\\Local\\Temp\\ipykernel_1984\\2649020551.py:3: DeprecationWarning: `import kerastuner` is deprecated, please use `import keras_tuner`.\n",
      "  from kerastuner.tuners import RandomSearch\n"
     ]
    }
   ],
   "source": [
    "import tensorflow as tf\n",
    "from tensorflow import keras\n",
    "from kerastuner.tuners import RandomSearch\n",
    "from tensorflow.keras.layers import  Conv2D, MaxPooling2D,Conv2DTranspose\n",
    "from tensorflow.keras.optimizers import Adam\n",
    "from tensorflow.keras.layers import BatchNormalization"
   ]
  },
  {
   "cell_type": "code",
   "execution_count": 15,
   "metadata": {},
   "outputs": [],
   "source": [
    "model = keras.Sequential()\n",
    "model.add(keras.layers.Conv2D(32, (3, 3), activation='relu', input_shape=(224, 224,3)))\n",
    "model.add(keras.layers.MaxPooling2D((2, 2)))\n",
    "model.add(keras.layers.Conv2D(64, (3, 3), activation='relu'))\n",
    "model.add(keras.layers.MaxPooling2D((2, 2)))\n",
    "model.add(keras.layers.Conv2D(128, (3, 3), activation='relu'))\n",
    "model.add(keras.layers.MaxPooling2D((2, 2)))\n",
    "model.add(keras.layers.Flatten())\n",
    "\n",
    "# Fully connected layers\n",
    "model.add(keras.layers.Dense(128, activation='relu'))\n",
    "model.add(keras.layers.Dropout(0.5))\n",
    "model.add(keras.layers.Dense(64, activation='relu'))\n",
    "model.add(keras.layers.Dropout(0.5))\n",
    "\n",
    "# Output layers\n",
    "model.add(keras.layers.Dense(1, activation='sigmoid'))"
   ]
  },
  {
   "cell_type": "code",
   "execution_count": 16,
   "metadata": {},
   "outputs": [],
   "source": [
    "model.compile(optimizer='Adam',loss='binary_crossentropy',metrics=['accuracy'])"
   ]
  },
  {
   "cell_type": "code",
   "execution_count": 17,
   "metadata": {
    "scrolled": false
   },
   "outputs": [
    {
     "name": "stdout",
     "output_type": "stream",
     "text": [
      "Epoch 1/10\n",
      "74/74 [==============================] - 172s 2s/step - loss: 0.5742 - accuracy: 0.7417 - val_loss: 0.2722 - val_accuracy: 0.9168\n",
      "Epoch 2/10\n",
      "74/74 [==============================] - 169s 2s/step - loss: 0.3116 - accuracy: 0.8529 - val_loss: 0.1775 - val_accuracy: 0.9264\n",
      "Epoch 3/10\n",
      "74/74 [==============================] - 168s 2s/step - loss: 0.2472 - accuracy: 0.8875 - val_loss: 0.1790 - val_accuracy: 0.9349\n",
      "Epoch 4/10\n",
      "74/74 [==============================] - 168s 2s/step - loss: 0.2270 - accuracy: 0.9110 - val_loss: 0.1489 - val_accuracy: 0.9370\n",
      "Epoch 5/10\n",
      "74/74 [==============================] - 167s 2s/step - loss: 0.1985 - accuracy: 0.9189 - val_loss: 0.1304 - val_accuracy: 0.9509\n",
      "Epoch 6/10\n",
      "74/74 [==============================] - 167s 2s/step - loss: 0.1956 - accuracy: 0.9225 - val_loss: 0.1150 - val_accuracy: 0.9562\n",
      "Epoch 7/10\n",
      "74/74 [==============================] - 167s 2s/step - loss: 0.1792 - accuracy: 0.9298 - val_loss: 0.0988 - val_accuracy: 0.9584\n",
      "Epoch 8/10\n",
      "74/74 [==============================] - 166s 2s/step - loss: 0.1646 - accuracy: 0.9409 - val_loss: 0.1083 - val_accuracy: 0.9477\n",
      "Epoch 9/10\n",
      "74/74 [==============================] - 166s 2s/step - loss: 0.1686 - accuracy: 0.9366 - val_loss: 0.1090 - val_accuracy: 0.9573\n",
      "Epoch 10/10\n",
      "74/74 [==============================] - 166s 2s/step - loss: 0.1475 - accuracy: 0.9464 - val_loss: 0.1037 - val_accuracy: 0.9669\n"
     ]
    }
   ],
   "source": [
    "model_history=model.fit(im_arr, y,epochs=10,batch_size=64,verbose=1,validation_data=(x_val,y_val))"
   ]
  },
  {
   "cell_type": "code",
   "execution_count": 18,
   "metadata": {},
   "outputs": [
    {
     "data": {
      "image/png": "[encoded data removed]",
      "text/plain": [
       "<Figure size 640x480 with 1 Axes>"
      ]
     },
     "metadata": {},
     "output_type": "display_data"
    }
   ],
   "source": [
    "pd.DataFrame(model_history.history).plot()\n",
    "plt.grid(True)"
   ]
  },
  {
   "cell_type": "code",
   "execution_count": 19,
   "metadata": {},
   "outputs": [
    {
     "name": "stdout",
     "output_type": "stream",
     "text": [
      "20/20 [==============================] - 5s 247ms/step - loss: 0.2392 - accuracy: 0.9119\n",
      "Loss :  0.2391791045665741\n",
      "Accuracy :  0.9118589758872986\n"
     ]
    }
   ],
   "source": [
    "loss,accuracy=model.evaluate(x_eval, y1)\n",
    "print('Loss : ',loss)\n",
    "print('Accuracy : ',accuracy)"
   ]
  },
  {
   "cell_type": "code",
   "execution_count": 20,
   "metadata": {},
   "outputs": [],
   "source": [
    "model.save(\"C:/Users/neera/Downloads/Data/CNN_model.h5\")"
   ]
  },
  {
   "cell_type": "markdown",
   "metadata": {},
   "source": [
    "## Test Data"
   ]
  },
  {
   "cell_type": "code",
   "execution_count": 21,
   "metadata": {},
   "outputs": [
    {
     "name": "stdout",
     "output_type": "stream",
     "text": [
      "NORMAL\n",
      "PNEUMONIA\n"
     ]
    }
   ],
   "source": [
    "#Loading the train images from train dataset\n",
    "x2=[]\n",
    "y_test=[]\n",
    "base_path=\"C:/Users/neera/Downloads/Data/test\"\n",
    "for child in os.listdir(base_path):\n",
    "    print(child)\n",
    "    sub_path=os.path.join(base_path,child)\n",
    "    if os.path.isdir(sub_path):\n",
    "        for xray in os.listdir(sub_path):\n",
    "            im=Image.open(os.path.join(sub_path,xray))\n",
    "            im=im.convert(\"RGB\")\n",
    "            im=np.array(im.resize((224,224)))\n",
    "            im=im.reshape([224,224,3])#converting all images into same dimension\n",
    "            im=np.array(im)\n",
    "            x2.append(im)\n",
    "            y_test.append(child)"
   ]
  },
  {
   "cell_type": "code",
   "execution_count": 23,
   "metadata": {},
   "outputs": [
    {
     "name": "stdout",
     "output_type": "stream",
     "text": [
      "NO: of NORMAL X-rays in train dataset : 317\n",
      "NO: of PNEUMONIA X-rays in train dataset : 855\n"
     ]
    }
   ],
   "source": [
    "print('NO: of NORMAL X-rays in train dataset :',y_test.count(\"NORMAL\"))\n",
    "print('NO: of PNEUMONIA X-rays in train dataset :',y_test.count(\"PNEUMONIA\"))"
   ]
  },
  {
   "cell_type": "code",
   "execution_count": 24,
   "metadata": {},
   "outputs": [
    {
     "name": "stdout",
     "output_type": "stream",
     "text": [
      "(1172, 224, 224, 3)\n"
     ]
    }
   ],
   "source": [
    "#Converting the values into Float \n",
    "x_test=np.asarray(x2).astype('float32')\n",
    "x_test=x_test/np.max(x_test)#Normalizing values to be between 0 and 1\n",
    "print(x_test.shape)"
   ]
  },
  {
   "cell_type": "markdown",
   "metadata": {},
   "source": [
    "## Testing the model"
   ]
  },
  {
   "cell_type": "code",
   "execution_count": 25,
   "metadata": {},
   "outputs": [
    {
     "name": "stdout",
     "output_type": "stream",
     "text": [
      "37/37 [==============================] - 9s 247ms/step\n"
     ]
    }
   ],
   "source": [
    "prediction=model.predict(x_test)"
   ]
  },
  {
   "cell_type": "code",
   "execution_count": 26,
   "metadata": {},
   "outputs": [],
   "source": [
    "prediction=lb.inverse_transform(prediction)"
   ]
  },
  {
   "cell_type": "code",
   "execution_count": 28,
   "metadata": {},
   "outputs": [
    {
     "name": "stdout",
     "output_type": "stream",
     "text": [
      "0.9428327645051194\n",
      "0.9600477042337507\n",
      "[[300  17]\n",
      " [ 50 805]]\n"
     ]
    }
   ],
   "source": [
    "from sklearn.metrics import accuracy_score,f1_score,confusion_matrix\n",
    "print(accuracy_score(y_test,prediction))\n",
    "print(f1_score(y_test,prediction,pos_label='PNEUMONIA'))\n",
    "print(confusion_matrix(y_test,prediction))"
   ]
  }
 ],
 "metadata": {
  "colab": {
   "provenance": []
  },
  "kernelspec": {
   "display_name": "Python 3 (ipykernel)",
   "language": "python",
   "name": "python3"
  },
  "language_info": {
   "codemirror_mode": {
    "name": "ipython",
    "version": 3
   },
   "file_extension": ".py",
   "mimetype": "text/x-python",
   "name": "python",
   "nbconvert_exporter": "python",
   "pygments_lexer": "ipython3",
   "version": "3.9.13"
  }
 },
 "nbformat": 4,
 "nbformat_minor": 1
}
