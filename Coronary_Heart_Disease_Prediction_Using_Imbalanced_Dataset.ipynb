{
  "cells": [
    {
      "cell_type": "markdown",
      "metadata": {
        "id": "ck-j-mzM8_1R"
      },
      "source": [
        "\n",
        "# **CORONARY HEART DISEASE PREDICTION WITH IMBALANCED DATA**\n"
      ]
    },
    {
      "cell_type": "code",
      "execution_count": null,
      "metadata": {
        "id": "CfeBxPsN8_1U"
      },
      "outputs": [],
      "source": [
        "import numpy as np\n",
        "import copy\n",
        "import tensorflow as tf\n",
        "from sklearn import preprocessing\n",
        "from tensorflow import keras\n",
        "import os\n",
        "import pandas as pd\n",
        "import matplotlib.pyplot as plt\n",
        "from numpy.random import seed\n",
        "np.random.seed(1)"
      ]
    },
    {
      "cell_type": "code",
      "execution_count": null,
      "metadata": {
        "id": "F7CVkVdI8_1X",
        "outputId": "a0980378-483a-4e48-ecdb-1f43e3ce8bf2"
      },
      "outputs": [
        {
          "data": {
            "text/plain": [
              "Index(['SEQN', 'Gender', 'Age', 'Annual-Family-Income',\n",
              "       'Ratio-Family-Income-Poverty', 'X60-sec-pulse', 'Systolic', 'Diastolic',\n",
              "       'Weight', 'Height', 'Body-Mass-Index', 'White-Blood-Cells',\n",
              "       'Lymphocyte', 'Monocyte', 'Eosinophils', 'Basophils', 'Red-Blood-Cells',\n",
              "       'Hemoglobin', 'Mean-Cell-Vol', 'Mean-Cell-Hgb-Conc.',\n",
              "       'Mean-cell-Hemoglobin', 'Platelet-count', 'Mean-Platelet-Vol',\n",
              "       'Segmented-Neutrophils', 'Hematocrit', 'Red-Cell-Distribution-Width',\n",
              "       'Albumin', 'ALP', 'AST', 'ALT', 'Cholesterol', 'Creatinine', 'Glucose',\n",
              "       'GGT', 'Iron', 'LDH', 'Phosphorus', 'Bilirubin', 'Protein', 'Uric.Acid',\n",
              "       'Triglycerides', 'Total-Cholesterol', 'HDL', 'Glycohemoglobin',\n",
              "       'Vigorous-work', 'Moderate-work', 'Health-Insurance', 'Diabetes',\n",
              "       'Blood-Rel-Diabetes', 'Blood-Rel-Stroke', 'CoronaryHeartDisease'],\n",
              "      dtype='object')"
            ]
          },
          "execution_count": 269,
          "metadata": {},
          "output_type": "execute_result"
        }
      ],
      "source": [
        "df=pd.read_csv(\"C:/Users/neera/Downloads/CardiacPrediction - CoroHeartDis.csv\")\n",
        "df.columns"
      ]
    },
    {
      "cell_type": "code",
      "execution_count": null,
      "metadata": {
        "id": "1hVhTOQV8_1Y",
        "outputId": "8c49b131-eaa7-49ea-e5db-bb6673cfe4b2"
      },
      "outputs": [
        {
          "data": {
            "text/html": [
              "<div>\n",
              "<style scoped>\n",
              "    .dataframe tbody tr th:only-of-type {\n",
              "        vertical-align: middle;\n",
              "    }\n",
              "\n",
              "    .dataframe tbody tr th {\n",
              "        vertical-align: top;\n",
              "    }\n",
              "\n",
              "    .dataframe thead th {\n",
              "        text-align: right;\n",
              "    }\n",
              "</style>\n",
              "<table border=\"1\" class=\"dataframe\">\n",
              "  <thead>\n",
              "    <tr style=\"text-align: right;\">\n",
              "      <th></th>\n",
              "      <th>SEQN</th>\n",
              "      <th>Gender</th>\n",
              "      <th>Age</th>\n",
              "      <th>Annual-Family-Income</th>\n",
              "      <th>Ratio-Family-Income-Poverty</th>\n",
              "      <th>X60-sec-pulse</th>\n",
              "      <th>Systolic</th>\n",
              "      <th>Diastolic</th>\n",
              "      <th>Weight</th>\n",
              "      <th>Height</th>\n",
              "      <th>...</th>\n",
              "      <th>Total-Cholesterol</th>\n",
              "      <th>HDL</th>\n",
              "      <th>Glycohemoglobin</th>\n",
              "      <th>Vigorous-work</th>\n",
              "      <th>Moderate-work</th>\n",
              "      <th>Health-Insurance</th>\n",
              "      <th>Diabetes</th>\n",
              "      <th>Blood-Rel-Diabetes</th>\n",
              "      <th>Blood-Rel-Stroke</th>\n",
              "      <th>CoronaryHeartDisease</th>\n",
              "    </tr>\n",
              "  </thead>\n",
              "  <tbody>\n",
              "    <tr>\n",
              "      <th>0</th>\n",
              "      <td>2</td>\n",
              "      <td>1</td>\n",
              "      <td>77</td>\n",
              "      <td>8</td>\n",
              "      <td>5.00</td>\n",
              "      <td>68</td>\n",
              "      <td>98</td>\n",
              "      <td>56</td>\n",
              "      <td>75.4</td>\n",
              "      <td>174.0</td>\n",
              "      <td>...</td>\n",
              "      <td>5.56</td>\n",
              "      <td>1.39</td>\n",
              "      <td>4.7</td>\n",
              "      <td>3</td>\n",
              "      <td>3</td>\n",
              "      <td>1</td>\n",
              "      <td>2</td>\n",
              "      <td>2</td>\n",
              "      <td>2</td>\n",
              "      <td>0</td>\n",
              "    </tr>\n",
              "    <tr>\n",
              "      <th>1</th>\n",
              "      <td>5</td>\n",
              "      <td>1</td>\n",
              "      <td>49</td>\n",
              "      <td>11</td>\n",
              "      <td>5.00</td>\n",
              "      <td>66</td>\n",
              "      <td>122</td>\n",
              "      <td>83</td>\n",
              "      <td>92.5</td>\n",
              "      <td>178.3</td>\n",
              "      <td>...</td>\n",
              "      <td>7.21</td>\n",
              "      <td>1.08</td>\n",
              "      <td>5.5</td>\n",
              "      <td>1</td>\n",
              "      <td>1</td>\n",
              "      <td>1</td>\n",
              "      <td>2</td>\n",
              "      <td>2</td>\n",
              "      <td>2</td>\n",
              "      <td>0</td>\n",
              "    </tr>\n",
              "    <tr>\n",
              "      <th>2</th>\n",
              "      <td>12</td>\n",
              "      <td>1</td>\n",
              "      <td>37</td>\n",
              "      <td>11</td>\n",
              "      <td>4.93</td>\n",
              "      <td>64</td>\n",
              "      <td>174</td>\n",
              "      <td>99</td>\n",
              "      <td>99.2</td>\n",
              "      <td>180.0</td>\n",
              "      <td>...</td>\n",
              "      <td>4.03</td>\n",
              "      <td>0.98</td>\n",
              "      <td>5.2</td>\n",
              "      <td>2</td>\n",
              "      <td>1</td>\n",
              "      <td>1</td>\n",
              "      <td>2</td>\n",
              "      <td>1</td>\n",
              "      <td>1</td>\n",
              "      <td>0</td>\n",
              "    </tr>\n",
              "    <tr>\n",
              "      <th>3</th>\n",
              "      <td>13</td>\n",
              "      <td>1</td>\n",
              "      <td>70</td>\n",
              "      <td>3</td>\n",
              "      <td>1.07</td>\n",
              "      <td>102</td>\n",
              "      <td>130</td>\n",
              "      <td>66</td>\n",
              "      <td>63.6</td>\n",
              "      <td>157.7</td>\n",
              "      <td>...</td>\n",
              "      <td>8.12</td>\n",
              "      <td>1.28</td>\n",
              "      <td>7.6</td>\n",
              "      <td>3</td>\n",
              "      <td>3</td>\n",
              "      <td>1</td>\n",
              "      <td>1</td>\n",
              "      <td>1</td>\n",
              "      <td>2</td>\n",
              "      <td>0</td>\n",
              "    </tr>\n",
              "    <tr>\n",
              "      <th>4</th>\n",
              "      <td>14</td>\n",
              "      <td>1</td>\n",
              "      <td>81</td>\n",
              "      <td>5</td>\n",
              "      <td>2.67</td>\n",
              "      <td>72</td>\n",
              "      <td>136</td>\n",
              "      <td>61</td>\n",
              "      <td>75.5</td>\n",
              "      <td>166.2</td>\n",
              "      <td>...</td>\n",
              "      <td>4.50</td>\n",
              "      <td>1.04</td>\n",
              "      <td>5.8</td>\n",
              "      <td>1</td>\n",
              "      <td>1</td>\n",
              "      <td>1</td>\n",
              "      <td>2</td>\n",
              "      <td>2</td>\n",
              "      <td>2</td>\n",
              "      <td>0</td>\n",
              "    </tr>\n",
              "  </tbody>\n",
              "</table>\n",
              "<p>5 rows × 51 columns</p>\n",
              "</div>"
            ],
            "text/plain": [
              "   SEQN  Gender  Age  Annual-Family-Income  Ratio-Family-Income-Poverty  \\\n",
              "0     2       1   77                     8                         5.00   \n",
              "1     5       1   49                    11                         5.00   \n",
              "2    12       1   37                    11                         4.93   \n",
              "3    13       1   70                     3                         1.07   \n",
              "4    14       1   81                     5                         2.67   \n",
              "\n",
              "   X60-sec-pulse  Systolic  Diastolic  Weight  Height  ...  Total-Cholesterol  \\\n",
              "0             68        98         56    75.4   174.0  ...               5.56   \n",
              "1             66       122         83    92.5   178.3  ...               7.21   \n",
              "2             64       174         99    99.2   180.0  ...               4.03   \n",
              "3            102       130         66    63.6   157.7  ...               8.12   \n",
              "4             72       136         61    75.5   166.2  ...               4.50   \n",
              "\n",
              "    HDL  Glycohemoglobin  Vigorous-work  Moderate-work  Health-Insurance  \\\n",
              "0  1.39              4.7              3              3                 1   \n",
              "1  1.08              5.5              1              1                 1   \n",
              "2  0.98              5.2              2              1                 1   \n",
              "3  1.28              7.6              3              3                 1   \n",
              "4  1.04              5.8              1              1                 1   \n",
              "\n",
              "   Diabetes  Blood-Rel-Diabetes  Blood-Rel-Stroke  CoronaryHeartDisease  \n",
              "0         2                   2                 2                     0  \n",
              "1         2                   2                 2                     0  \n",
              "2         2                   1                 1                     0  \n",
              "3         1                   1                 2                     0  \n",
              "4         2                   2                 2                     0  \n",
              "\n",
              "[5 rows x 51 columns]"
            ]
          },
          "execution_count": 270,
          "metadata": {},
          "output_type": "execute_result"
        }
      ],
      "source": [
        "df.head(5)"
      ]
    },
    {
      "cell_type": "code",
      "execution_count": null,
      "metadata": {
        "id": "0bZugGZe8_1a",
        "outputId": "525d4b5f-b395-4fbe-b7f2-3f199a29cafb"
      },
      "outputs": [
        {
          "data": {
            "text/plain": [
              "<AxesSubplot:>"
            ]
          },
          "execution_count": 271,
          "metadata": {},
          "output_type": "execute_result"
        },
        {
          "data": {
            "image/png": "[encoded data removed]",
            "text/plain": [
              "<Figure size 432x288 with 1 Axes>"
            ]
          },
          "metadata": {
            "needs_background": "light"
          },
          "output_type": "display_data"
        }
      ],
      "source": [
        "df['CoronaryHeartDisease'].value_counts(normalize='False').plot(kind='bar')"
      ]
    },
    {
      "cell_type": "code",
      "execution_count": null,
      "metadata": {
        "id": "dLnYOddT8_1b",
        "outputId": "bbc2c2c2-0bdf-4ed0-c9c2-3ead5046ea1f"
      },
      "outputs": [
        {
          "data": {
            "text/plain": [
              "(37079, 37)"
            ]
          },
          "execution_count": 272,
          "metadata": {},
          "output_type": "execute_result"
        }
      ],
      "source": [
        "#drop irrelavent variables\n",
        "df.drop(['SEQN','Annual-Family-Income','Height','Ratio-Family-Income-Poverty','X60-sec-pulse',\n",
        "          'Health-Insurance','Lymphocyte','Monocyte','Eosinophils','Total-Cholesterol','Mean-Cell-Vol','Mean-Cell-Hgb-Conc.','Hematocrit','Segmented-Neutrophils'],axis=1,inplace=True)\n",
        "\n",
        "df.shape"
      ]
    },
    {
      "cell_type": "code",
      "execution_count": null,
      "metadata": {
        "id": "KkrHb8fp8_1c"
      },
      "outputs": [],
      "source": [
        "df=pd.get_dummies(df,columns=['Gender','Vigorous-work', 'Moderate-work', 'Diabetes',\n",
        "       'Blood-Rel-Diabetes', 'Blood-Rel-Stroke'])"
      ]
    },
    {
      "cell_type": "code",
      "execution_count": null,
      "metadata": {
        "id": "el68xRco8_1d",
        "outputId": "2681dbba-2f4a-4f20-8629-9af703dbdf92"
      },
      "outputs": [
        {
          "data": {
            "text/plain": [
              "array(['Age', 'Systolic', 'Diastolic', 'Weight', 'Body-Mass-Index',\n",
              "       'White-Blood-Cells', 'Basophils', 'Red-Blood-Cells', 'Hemoglobin',\n",
              "       'Mean-cell-Hemoglobin', 'Platelet-count', 'Mean-Platelet-Vol',\n",
              "       'Red-Cell-Distribution-Width', 'Albumin', 'ALP', 'AST', 'ALT',\n",
              "       'Cholesterol', 'Creatinine', 'Glucose', 'GGT', 'Iron', 'LDH',\n",
              "       'Phosphorus', 'Bilirubin', 'Protein', 'Uric.Acid', 'Triglycerides',\n",
              "       'HDL', 'Glycohemoglobin', 'Gender_1', 'Gender_2',\n",
              "       'Vigorous-work_1', 'Vigorous-work_2', 'Vigorous-work_3',\n",
              "       'Moderate-work_1', 'Moderate-work_2', 'Moderate-work_3',\n",
              "       'Diabetes_1', 'Diabetes_2', 'Diabetes_3', 'Blood-Rel-Diabetes_1',\n",
              "       'Blood-Rel-Diabetes_2', 'Blood-Rel-Stroke_1', 'Blood-Rel-Stroke_2'],\n",
              "      dtype=object)"
            ]
          },
          "execution_count": 274,
          "metadata": {},
          "output_type": "execute_result"
        }
      ],
      "source": [
        "frame=df.copy()\n",
        "frame.drop('CoronaryHeartDisease',axis=1,inplace=True)\n",
        "var=np.array(frame.columns)\n",
        "frame=np.array(frame)\n",
        "var"
      ]
    },
    {
      "cell_type": "code",
      "execution_count": null,
      "metadata": {
        "id": "LjTQ3AXX8_1e"
      },
      "outputs": [],
      "source": [
        "output=df['CoronaryHeartDisease']"
      ]
    },
    {
      "cell_type": "markdown",
      "metadata": {
        "id": "qPGJkOgn8_1f"
      },
      "source": [
        "## **Feature Selection using Lasso Regression**"
      ]
    },
    {
      "cell_type": "code",
      "execution_count": null,
      "metadata": {
        "id": "fSkd9c-Z8_1g",
        "outputId": "3b5d4ce8-fdfe-4646-8744-56e3fea8bab8"
      },
      "outputs": [
        {
          "name": "stdout",
          "output_type": "stream",
          "text": [
            "(45,)\n"
          ]
        }
      ],
      "source": [
        "from sklearn.linear_model import Lasso\n",
        "\n",
        "fvote=np.zeros(frame.shape[1])\n",
        "print(fvote.shape)\n",
        "num=0\n",
        "while (num < 100):\n",
        "    index_0=np.where(output==0)[0]\n",
        "    index_1=np.where(output==1)[0]\n",
        "    traindata_0=1300\n",
        "    traindata_1=1300\n",
        "    np.random.shuffle(index_0)\n",
        "    np.random.shuffle(index_1)\n",
        "    train_idx_0=index_0[:traindata_0-1]\n",
        "    train_idx_1=index_1[:traindata_1-1]\n",
        "    test_idx_0=index_0[traindata_0-1:]\n",
        "    test_idx_1=index_1[traindata_0-1:]\n",
        "    \n",
        "    train_idx=np.append(train_idx_0,train_idx_1)\n",
        "    test_idx=np.append(test_idx_0,test_idx_1)\n",
        "    traindata=frame[train_idx]\n",
        "    trainlabel=output[train_idx]\n",
        "    testdata=frame[test_idx]\n",
        "    testlabel=output[test_idx]\n",
        "    \n",
        "    ##Standardization\n",
        "    scaler=preprocessing.StandardScaler()\n",
        "    scaler.fit(traindata)\n",
        "    scaled_traindata=scaler.transform(traindata)\n",
        "    scaled_testdata=scaler.transform(testdata)\n",
        "    \n",
        "    ##Lasso && ElasticNet && LogisticRegression\n",
        "    #rgrs=ElasticNet(random_state=0, alpha=1, l1_ratio=0.03, tol=0.000001, max_iter=100000)\n",
        "    #regr = LogisticRegression(penalty='l1',random_state=0,C=100,tol=0.000001,max_iter=100,class_weight='balanced')\n",
        "    rgrs=Lasso(random_state=0,alpha=0.006,tol=0.000001, max_iter=100000)\n",
        "    rgrs.fit(scaled_traindata,trainlabel)\n",
        "    cof=np.abs(rgrs.coef_)\n",
        "    col_idx=np.where(cof != 0)[0]\n",
        "    for col in col_idx:\n",
        "        fvote[col]+=1\n",
        "    num+=1"
      ]
    },
    {
      "cell_type": "code",
      "execution_count": null,
      "metadata": {
        "id": "RV_oPYml8_1n",
        "outputId": "a0c7b080-947c-4acf-9670-3bc9c7eaef6b"
      },
      "outputs": [
        {
          "data": {
            "text/plain": [
              "array([100.,  28.,  82.,  30.,  12.,  96.,  43.,  54.,  10.,  20., 100.,\n",
              "        48., 100.,  42.,  39.,  27.,  11., 100.,  79.,   7.,  30.,  36.,\n",
              "       100.,  30.,  34.,  26., 100., 100.,  99.,  89., 100.,  43.,  18.,\n",
              "        14.,  80.,   5.,  94.,  58.,  89.,  82.,   2.,  79.,  35., 100.,\n",
              "        46.])"
            ]
          },
          "execution_count": 277,
          "metadata": {},
          "output_type": "execute_result"
        }
      ],
      "source": [
        "fvote"
      ]
    },
    {
      "cell_type": "code",
      "execution_count": null,
      "metadata": {
        "id": "QQcc1K-A8_1o",
        "outputId": "bdf33bdc-ef03-4dba-d123-12674574e2c2"
      },
      "outputs": [
        {
          "name": "stdout",
          "output_type": "stream",
          "text": [
            "['Age' 'Systolic' 'Diastolic' 'Weight' 'White-Blood-Cells' 'Basophils'\n",
            " 'Red-Blood-Cells' 'Mean-cell-Hemoglobin' 'Platelet-count'\n",
            " 'Mean-Platelet-Vol' 'Red-Cell-Distribution-Width' 'Albumin' 'ALP' 'AST'\n",
            " 'Cholesterol' 'Creatinine' 'GGT' 'Iron' 'LDH' 'Phosphorus' 'Bilirubin'\n",
            " 'Protein' 'Uric.Acid' 'Triglycerides' 'HDL' 'Glycohemoglobin' 'Gender_1'\n",
            " 'Gender_2' 'Vigorous-work_1' 'Vigorous-work_2' 'Vigorous-work_3'\n",
            " 'Moderate-work_1' 'Moderate-work_2' 'Moderate-work_3' 'Diabetes_1'\n",
            " 'Diabetes_2' 'Diabetes_3' 'Blood-Rel-Diabetes_1' 'Blood-Rel-Diabetes_2'\n",
            " 'Blood-Rel-Stroke_1' 'Blood-Rel-Stroke_2']\n",
            "\n",
            "\n",
            "Shape= (41,)\n"
          ]
        }
      ],
      "source": [
        "##keeping categorical variables and selecting important features from numerical variables\n",
        "limit=20\n",
        "feature_idx=np.where(fvote[:30]>=limit)[0]\n",
        "feature_idx=np.append(feature_idx,np.arange(30,frame.shape[1]))\n",
        "print(var[feature_idx])\n",
        "print(\"\\n\\nShape=\",var[feature_idx].shape)"
      ]
    },
    {
      "cell_type": "code",
      "execution_count": null,
      "metadata": {
        "id": "0fnkXKYz8_1q",
        "outputId": "273e346c-f897-46a8-fba6-13e61ef61206"
      },
      "outputs": [
        {
          "data": {
            "text/plain": [
              "array(['Body-Mass-Index', 'Hemoglobin', 'ALT', 'Glucose'], dtype=object)"
            ]
          },
          "execution_count": 279,
          "metadata": {},
          "output_type": "execute_result"
        }
      ],
      "source": [
        "#unwanted features\n",
        "tidx=np.arange(frame.shape[1])\n",
        "ridx=tidx[~np.isin(tidx,feature_idx)]\n",
        "var[ridx]"
      ]
    },
    {
      "cell_type": "code",
      "execution_count": null,
      "metadata": {
        "id": "rhymtAyi8_1q"
      },
      "outputs": [],
      "source": [
        "#removing unwanted features from main dataset\n",
        "temp=var[tidx[np.isin(tidx,feature_idx)]]\n",
        "df.drop(['Body-Mass-Index', 'Hemoglobin', 'ALT', 'Glucose'],axis=1,inplace=True)"
      ]
    },
    {
      "cell_type": "code",
      "execution_count": null,
      "metadata": {
        "id": "fJftLltA8_1r"
      },
      "outputs": [],
      "source": [
        "#Scaling the values\n",
        "scaler=preprocessing.MinMaxScaler()\n",
        "for col in df.columns:\n",
        "    if df[col].max()>1:\n",
        "        df[col]=scaler.fit_transform(df[col].values.reshape(-1,1))"
      ]
    },
    {
      "cell_type": "code",
      "execution_count": null,
      "metadata": {
        "id": "2hzDjSBj8_1s",
        "outputId": "3490ab74-058a-47e2-e678-bf0735425d05"
      },
      "outputs": [
        {
          "data": {
            "text/html": [
              "<div>\n",
              "<style scoped>\n",
              "    .dataframe tbody tr th:only-of-type {\n",
              "        vertical-align: middle;\n",
              "    }\n",
              "\n",
              "    .dataframe tbody tr th {\n",
              "        vertical-align: top;\n",
              "    }\n",
              "\n",
              "    .dataframe thead th {\n",
              "        text-align: right;\n",
              "    }\n",
              "</style>\n",
              "<table border=\"1\" class=\"dataframe\">\n",
              "  <thead>\n",
              "    <tr style=\"text-align: right;\">\n",
              "      <th></th>\n",
              "      <th>Age</th>\n",
              "      <th>Systolic</th>\n",
              "      <th>Diastolic</th>\n",
              "      <th>Weight</th>\n",
              "      <th>White-Blood-Cells</th>\n",
              "      <th>Basophils</th>\n",
              "      <th>Red-Blood-Cells</th>\n",
              "      <th>Mean-cell-Hemoglobin</th>\n",
              "      <th>Platelet-count</th>\n",
              "      <th>Mean-Platelet-Vol</th>\n",
              "      <th>...</th>\n",
              "      <th>Moderate-work_1</th>\n",
              "      <th>Moderate-work_2</th>\n",
              "      <th>Moderate-work_3</th>\n",
              "      <th>Diabetes_1</th>\n",
              "      <th>Diabetes_2</th>\n",
              "      <th>Diabetes_3</th>\n",
              "      <th>Blood-Rel-Diabetes_1</th>\n",
              "      <th>Blood-Rel-Diabetes_2</th>\n",
              "      <th>Blood-Rel-Stroke_1</th>\n",
              "      <th>Blood-Rel-Stroke_2</th>\n",
              "    </tr>\n",
              "  </thead>\n",
              "  <tbody>\n",
              "    <tr>\n",
              "      <th>0</th>\n",
              "      <td>0.876923</td>\n",
              "      <td>0.362963</td>\n",
              "      <td>0.424242</td>\n",
              "      <td>0.127251</td>\n",
              "      <td>0.053541</td>\n",
              "      <td>0.035971</td>\n",
              "      <td>0.408940</td>\n",
              "      <td>0.339181</td>\n",
              "      <td>0.210843</td>\n",
              "      <td>0.288462</td>\n",
              "      <td>...</td>\n",
              "      <td>0</td>\n",
              "      <td>0</td>\n",
              "      <td>1</td>\n",
              "      <td>0</td>\n",
              "      <td>1</td>\n",
              "      <td>0</td>\n",
              "      <td>0</td>\n",
              "      <td>1</td>\n",
              "      <td>0</td>\n",
              "      <td>1</td>\n",
              "    </tr>\n",
              "    <tr>\n",
              "      <th>1</th>\n",
              "      <td>0.446154</td>\n",
              "      <td>0.451852</td>\n",
              "      <td>0.628788</td>\n",
              "      <td>0.177738</td>\n",
              "      <td>0.038860</td>\n",
              "      <td>0.028777</td>\n",
              "      <td>0.475166</td>\n",
              "      <td>0.321637</td>\n",
              "      <td>0.205823</td>\n",
              "      <td>0.548077</td>\n",
              "      <td>...</td>\n",
              "      <td>1</td>\n",
              "      <td>0</td>\n",
              "      <td>0</td>\n",
              "      <td>0</td>\n",
              "      <td>1</td>\n",
              "      <td>0</td>\n",
              "      <td>0</td>\n",
              "      <td>1</td>\n",
              "      <td>0</td>\n",
              "      <td>1</td>\n",
              "    </tr>\n",
              "    <tr>\n",
              "      <th>2</th>\n",
              "      <td>0.261538</td>\n",
              "      <td>0.644444</td>\n",
              "      <td>0.750000</td>\n",
              "      <td>0.197520</td>\n",
              "      <td>0.075993</td>\n",
              "      <td>0.043165</td>\n",
              "      <td>0.579470</td>\n",
              "      <td>0.321637</td>\n",
              "      <td>0.354418</td>\n",
              "      <td>0.307692</td>\n",
              "      <td>...</td>\n",
              "      <td>1</td>\n",
              "      <td>0</td>\n",
              "      <td>0</td>\n",
              "      <td>0</td>\n",
              "      <td>1</td>\n",
              "      <td>0</td>\n",
              "      <td>1</td>\n",
              "      <td>0</td>\n",
              "      <td>1</td>\n",
              "      <td>0</td>\n",
              "    </tr>\n",
              "    <tr>\n",
              "      <th>3</th>\n",
              "      <td>0.769231</td>\n",
              "      <td>0.481481</td>\n",
              "      <td>0.500000</td>\n",
              "      <td>0.092412</td>\n",
              "      <td>0.088083</td>\n",
              "      <td>0.028777</td>\n",
              "      <td>0.541391</td>\n",
              "      <td>0.321637</td>\n",
              "      <td>0.224900</td>\n",
              "      <td>0.394231</td>\n",
              "      <td>...</td>\n",
              "      <td>0</td>\n",
              "      <td>0</td>\n",
              "      <td>1</td>\n",
              "      <td>1</td>\n",
              "      <td>0</td>\n",
              "      <td>0</td>\n",
              "      <td>1</td>\n",
              "      <td>0</td>\n",
              "      <td>0</td>\n",
              "      <td>1</td>\n",
              "    </tr>\n",
              "    <tr>\n",
              "      <th>4</th>\n",
              "      <td>0.938462</td>\n",
              "      <td>0.503704</td>\n",
              "      <td>0.462121</td>\n",
              "      <td>0.127547</td>\n",
              "      <td>0.066494</td>\n",
              "      <td>0.028777</td>\n",
              "      <td>0.506623</td>\n",
              "      <td>0.391813</td>\n",
              "      <td>0.156627</td>\n",
              "      <td>0.413462</td>\n",
              "      <td>...</td>\n",
              "      <td>1</td>\n",
              "      <td>0</td>\n",
              "      <td>0</td>\n",
              "      <td>0</td>\n",
              "      <td>1</td>\n",
              "      <td>0</td>\n",
              "      <td>0</td>\n",
              "      <td>1</td>\n",
              "      <td>0</td>\n",
              "      <td>1</td>\n",
              "    </tr>\n",
              "  </tbody>\n",
              "</table>\n",
              "<p>5 rows × 42 columns</p>\n",
              "</div>"
            ],
            "text/plain": [
              "        Age  Systolic  Diastolic    Weight  White-Blood-Cells  Basophils  \\\n",
              "0  0.876923  0.362963   0.424242  0.127251           0.053541   0.035971   \n",
              "1  0.446154  0.451852   0.628788  0.177738           0.038860   0.028777   \n",
              "2  0.261538  0.644444   0.750000  0.197520           0.075993   0.043165   \n",
              "3  0.769231  0.481481   0.500000  0.092412           0.088083   0.028777   \n",
              "4  0.938462  0.503704   0.462121  0.127547           0.066494   0.028777   \n",
              "\n",
              "   Red-Blood-Cells  Mean-cell-Hemoglobin  Platelet-count  Mean-Platelet-Vol  \\\n",
              "0         0.408940              0.339181        0.210843           0.288462   \n",
              "1         0.475166              0.321637        0.205823           0.548077   \n",
              "2         0.579470              0.321637        0.354418           0.307692   \n",
              "3         0.541391              0.321637        0.224900           0.394231   \n",
              "4         0.506623              0.391813        0.156627           0.413462   \n",
              "\n",
              "   ...  Moderate-work_1  Moderate-work_2  Moderate-work_3  Diabetes_1  \\\n",
              "0  ...                0                0                1           0   \n",
              "1  ...                1                0                0           0   \n",
              "2  ...                1                0                0           0   \n",
              "3  ...                0                0                1           1   \n",
              "4  ...                1                0                0           0   \n",
              "\n",
              "   Diabetes_2  Diabetes_3  Blood-Rel-Diabetes_1  Blood-Rel-Diabetes_2  \\\n",
              "0           1           0                     0                     1   \n",
              "1           1           0                     0                     1   \n",
              "2           1           0                     1                     0   \n",
              "3           0           0                     1                     0   \n",
              "4           1           0                     0                     1   \n",
              "\n",
              "   Blood-Rel-Stroke_1  Blood-Rel-Stroke_2  \n",
              "0                   0                   1  \n",
              "1                   0                   1  \n",
              "2                   1                   0  \n",
              "3                   0                   1  \n",
              "4                   0                   1  \n",
              "\n",
              "[5 rows x 42 columns]"
            ]
          },
          "execution_count": 282,
          "metadata": {},
          "output_type": "execute_result"
        }
      ],
      "source": [
        "df.head()"
      ]
    },
    {
      "cell_type": "markdown",
      "metadata": {
        "id": "odnJty0M8_1t"
      },
      "source": [
        "##**AutoEncoder** "
      ]
    },
    {
      "cell_type": "code",
      "execution_count": null,
      "metadata": {
        "id": "AoDvOXUG8_1t"
      },
      "outputs": [],
      "source": [
        "from sklearn.model_selection import train_test_split\n",
        "\n",
        "train,test=train_test_split(df,test_size=0.2)\n",
        "\n",
        "test=test.append(train[train.CoronaryHeartDisease==1],ignore_index=True)\n",
        "train=train.append(test[test.CoronaryHeartDisease==0])\n",
        "\n",
        "x_train = train.drop(['CoronaryHeartDisease'], axis=1).values\n",
        "x_test =test.drop(['CoronaryHeartDisease'],axis=1).values\n",
        "y_test =test['CoronaryHeartDisease']"
      ]
    },
    {
      "cell_type": "code",
      "execution_count": null,
      "metadata": {
        "id": "56vU6hOd8_1t"
      },
      "outputs": [],
      "source": [
        "from keras.models import Model\n",
        "from keras.layers import Input,Dense\n",
        "from keras.callbacks import ModelCheckpoint, TensorBoard\n",
        "from keras import optimizers"
      ]
    },
    {
      "cell_type": "code",
      "execution_count": null,
      "metadata": {
        "id": "S0wBcTHF8_1u",
        "outputId": "2d377643-b3a4-4738-b0e9-cca85245db5f"
      },
      "outputs": [
        {
          "name": "stdout",
          "output_type": "stream",
          "text": [
            "Model: \"model_4\"\n",
            "_________________________________________________________________\n",
            " Layer (type)                Output Shape              Param #   \n",
            "=================================================================\n",
            " input_5 (InputLayer)        [(None, 41)]              0         \n",
            "                                                                 \n",
            " dense_116 (Dense)           (None, 80)                3360      \n",
            "                                                                 \n",
            " dense_117 (Dense)           (None, 41)                3321      \n",
            "                                                                 \n",
            "=================================================================\n",
            "Total params: 6,681\n",
            "Trainable params: 6,681\n",
            "Non-trainable params: 0\n",
            "_________________________________________________________________\n"
          ]
        }
      ],
      "source": [
        "input_layer = Input(shape=(41,))\n",
        "encoder = Dense(80, activation=\"relu\")(input_layer)\n",
        "\n",
        "decoder=Dense(41)(encoder)\n",
        "\n",
        "ae=Model(inputs=input_layer,outputs=decoder)\n",
        "\n",
        "ae.summary()"
      ]
    },
    {
      "cell_type": "code",
      "execution_count": null,
      "metadata": {
        "id": "bPsd269_8_1u"
      },
      "outputs": [],
      "source": [
        "optimizer =keras.optimizers.SGD(learning_rate=0.001)\n",
        "ae.compile(optimizer=optimizer, loss='MeanSquaredError')"
      ]
    },
    {
      "cell_type": "code",
      "execution_count": null,
      "metadata": {
        "id": "1tDkef1Q8_1v"
      },
      "outputs": [],
      "source": [
        "tensorboard = TensorBoard(log_dir='./logs/run1/',\n",
        "write_graph=True, write_images=False)\n",
        "model_file = \"model_ae.h5\"\n",
        "checkpoint = ModelCheckpoint(model_file, monitor='loss',\n",
        "verbose=1, save_best_only=True, mode='min')"
      ]
    },
    {
      "cell_type": "code",
      "execution_count": null,
      "metadata": {
        "scrolled": true,
        "id": "fFSdYkQv8_1v",
        "outputId": "291a4439-9af4-4d20-9a10-f6249151d15a"
      },
      "outputs": [
        {
          "name": "stdout",
          "output_type": "stream",
          "text": [
            "Epoch 1/15\n",
            "538/575 [===========================>..] - ETA: 0s - loss: 0.2316\n",
            "Epoch 00001: loss improved from inf to 0.22928, saving model to model_ae.h5\n",
            "575/575 [==============================] - 1s 941us/step - loss: 0.2293 - val_loss: 0.1967\n",
            "Epoch 2/15\n",
            "517/575 [=========================>....] - ETA: 0s - loss: 0.1716\n",
            "Epoch 00002: loss improved from 0.22928 to 0.16955, saving model to model_ae.h5\n",
            "575/575 [==============================] - 0s 767us/step - loss: 0.1695 - val_loss: 0.1515\n",
            "Epoch 3/15\n",
            "526/575 [==========================>...] - ETA: 0s - loss: 0.1350\n",
            "Epoch 00003: loss improved from 0.16955 to 0.13384, saving model to model_ae.h5\n",
            "575/575 [==============================] - 0s 846us/step - loss: 0.1338 - val_loss: 0.1228\n",
            "Epoch 4/15\n",
            "506/575 [=========================>....] - ETA: 0s - loss: 0.1117\n",
            "Epoch 00004: loss improved from 0.13384 to 0.11058, saving model to model_ae.h5\n",
            "575/575 [==============================] - 0s 778us/step - loss: 0.1106 - val_loss: 0.1037\n",
            "Epoch 5/15\n",
            "527/575 [==========================>...] - ETA: 0s - loss: 0.0953\n",
            "Epoch 00005: loss improved from 0.11058 to 0.09484, saving model to model_ae.h5\n",
            "575/575 [==============================] - 0s 855us/step - loss: 0.0948 - val_loss: 0.0906\n",
            "Epoch 6/15\n",
            "566/575 [============================>.] - ETA: 0s - loss: 0.0841\n",
            "Epoch 00006: loss improved from 0.09484 to 0.08401, saving model to model_ae.h5\n",
            "575/575 [==============================] - 0s 799us/step - loss: 0.0840 - val_loss: 0.0816\n",
            "Epoch 7/15\n",
            "519/575 [==========================>...] - ETA: 0s - loss: 0.0767\n",
            "Epoch 00007: loss improved from 0.08401 to 0.07647, saving model to model_ae.h5\n",
            "575/575 [==============================] - 0s 764us/step - loss: 0.0765 - val_loss: 0.0752\n",
            "Epoch 8/15\n",
            "524/575 [==========================>...] - ETA: 0s - loss: 0.0713\n",
            "Epoch 00008: loss improved from 0.07647 to 0.07113, saving model to model_ae.h5\n",
            "575/575 [==============================] - 0s 750us/step - loss: 0.0711 - val_loss: 0.0707\n",
            "Epoch 9/15\n",
            "517/575 [=========================>....] - ETA: 0s - loss: 0.0674\n",
            "Epoch 00009: loss improved from 0.07113 to 0.06723, saving model to model_ae.h5\n",
            "575/575 [==============================] - 0s 752us/step - loss: 0.0672 - val_loss: 0.0673\n",
            "Epoch 10/15\n",
            "530/575 [==========================>...] - ETA: 0s - loss: 0.0644\n",
            "Epoch 00010: loss improved from 0.06723 to 0.06427, saving model to model_ae.h5\n",
            "575/575 [==============================] - 0s 740us/step - loss: 0.0643 - val_loss: 0.0647\n",
            "Epoch 11/15\n",
            "537/575 [===========================>..] - ETA: 0s - loss: 0.0620\n",
            "Epoch 00011: loss improved from 0.06427 to 0.06193, saving model to model_ae.h5\n",
            "575/575 [==============================] - 0s 717us/step - loss: 0.0619 - val_loss: 0.0626\n",
            "Epoch 12/15\n",
            "531/575 [==========================>...] - ETA: 0s - loss: 0.0600\n",
            "Epoch 00012: loss improved from 0.06193 to 0.05999, saving model to model_ae.h5\n",
            "575/575 [==============================] - 0s 742us/step - loss: 0.0600 - val_loss: 0.0608\n",
            "Epoch 13/15\n",
            "523/575 [==========================>...] - ETA: 0s - loss: 0.0583\n",
            "Epoch 00013: loss improved from 0.05999 to 0.05832, saving model to model_ae.h5\n",
            "575/575 [==============================] - 0s 744us/step - loss: 0.0583 - val_loss: 0.0593\n",
            "Epoch 14/15\n",
            "529/575 [==========================>...] - ETA: 0s - loss: 0.0569\n",
            "Epoch 00014: loss improved from 0.05832 to 0.05684, saving model to model_ae.h5\n",
            "575/575 [==============================] - 0s 722us/step - loss: 0.0568 - val_loss: 0.0579\n",
            "Epoch 15/15\n",
            "537/575 [===========================>..] - ETA: 0s - loss: 0.0555\n",
            "Epoch 00015: loss improved from 0.05684 to 0.05548, saving model to model_ae.h5\n",
            "575/575 [==============================] - 0s 735us/step - loss: 0.0555 - val_loss: 0.0566\n"
          ]
        },
        {
          "data": {
            "text/plain": [
              "<keras.callbacks.History at 0x1f18cb548b0>"
            ]
          },
          "execution_count": 288,
          "metadata": {},
          "output_type": "execute_result"
        }
      ],
      "source": [
        "num_epoch = 15\n",
        "batch_size = 64\n",
        "ae.fit(x_train,x_train, epochs=num_epoch, batch_size=batch_size,\n",
        "shuffle=True, validation_data=(x_test, x_test),\n",
        "verbose=1, callbacks=[checkpoint, tensorboard])"
      ]
    },
    {
      "cell_type": "code",
      "execution_count": null,
      "metadata": {
        "id": "pVygdtHB8_1w"
      },
      "outputs": [],
      "source": [
        "xpre=ae.predict(x_test)\n",
        "pre_err=np.mean(np.power(x_test - xpre, 2), axis=1)"
      ]
    },
    {
      "cell_type": "code",
      "execution_count": null,
      "metadata": {
        "id": "MDvtXwBf8_1w",
        "outputId": "58640029-4332-4acf-a58d-550348b5c4b0"
      },
      "outputs": [
        {
          "name": "stdout",
          "output_type": "stream",
          "text": [
            "[[4471 2636]\n",
            " [ 655  853]]\n",
            "              precision    recall  f1-score   support\n",
            "\n",
            "           0       0.87      0.63      0.73      7107\n",
            "           1       0.24      0.57      0.34      1508\n",
            "\n",
            "    accuracy                           0.62      8615\n",
            "   macro avg       0.56      0.60      0.54      8615\n",
            "weighted avg       0.76      0.62      0.66      8615\n",
            "\n"
          ]
        }
      ],
      "source": [
        "from sklearn.metrics import confusion_matrix,classification_report\n",
        "\n",
        "thresh=.06\n",
        "ypre=[1 if e > thresh else 0 for e in pre_err]\n",
        "print(confusion_matrix(y_test,ypre))\n",
        "print(classification_report(y_test,ypre))"
      ]
    },
    {
      "cell_type": "markdown",
      "metadata": {
        "id": "B_CoVa2z8_1x"
      },
      "source": [
        "### **Random** **Over** **Sampling** **with** **SMOTE**"
      ]
    },
    {
      "cell_type": "code",
      "execution_count": null,
      "metadata": {
        "id": "3KCcauE78_1x"
      },
      "outputs": [],
      "source": [
        "X=df.drop(\"CoronaryHeartDisease\",axis=1)\n",
        "y=df[\"CoronaryHeartDisease\"]"
      ]
    },
    {
      "cell_type": "code",
      "execution_count": null,
      "metadata": {
        "id": "6xizaf7T8_1x"
      },
      "outputs": [],
      "source": [
        "from imblearn.over_sampling import SMOTE\n",
        "sm=SMOTE(random_state=2)\n",
        "X_sm,y_sm=sm.fit_resample(X,y)"
      ]
    },
    {
      "cell_type": "code",
      "execution_count": null,
      "metadata": {
        "id": "rS_wFDXB8_1y",
        "outputId": "89a72f8f-14de-45d3-c05f-e3c1b9119983"
      },
      "outputs": [
        {
          "name": "stdout",
          "output_type": "stream",
          "text": [
            "[[0]\n",
            " [0]\n",
            " [0]\n",
            " ...\n",
            " [1]\n",
            " [1]\n",
            " [1]]\n"
          ]
        },
        {
          "data": {
            "text/plain": [
              "(71142, 1)"
            ]
          },
          "execution_count": 293,
          "metadata": {},
          "output_type": "execute_result"
        }
      ],
      "source": [
        "from sklearn.preprocessing import LabelBinarizer\n",
        "lb=LabelBinarizer()\n",
        "y_bi=lb.fit_transform(y_sm)\n",
        "print(y_bi)\n",
        "y_bi.shape"
      ]
    },
    {
      "cell_type": "code",
      "execution_count": null,
      "metadata": {
        "id": "OKr7NTZa8_1y"
      },
      "outputs": [],
      "source": [
        "x_tr,x_te,y_tr,y_te = train_test_split(X_sm, y_bi, test_size=0.25, random_state=0)"
      ]
    },
    {
      "cell_type": "code",
      "execution_count": null,
      "metadata": {
        "id": "FUv_Daco8_1z"
      },
      "outputs": [],
      "source": [
        "x_tr=np.array(x_tr)\n",
        "y_tr=np.array(y_tr)\n",
        "x_te=np.array(x_te)\n",
        "y_te=np.array(y_te)"
      ]
    },
    {
      "cell_type": "code",
      "execution_count": null,
      "metadata": {
        "id": "dwiJhsMQ8_1z",
        "outputId": "5ccb60d7-c53e-49b0-e179-4d369b766fd0"
      },
      "outputs": [
        {
          "name": "stdout",
          "output_type": "stream",
          "text": [
            "[[0.61131636 0.54565541 0.56461267 ... 0.         1.         0.        ]\n",
            " [0.03076923 0.38518519 0.33333333 ... 1.         0.         1.        ]\n",
            " [0.47692308 0.45185185 0.54545455 ... 1.         0.         1.        ]\n",
            " ...\n",
            " [0.90290095 0.42732268 0.47822506 ... 1.         0.         1.        ]\n",
            " [0.91451868 0.52837883 0.59672943 ... 0.         1.         0.        ]\n",
            " [0.74091869 0.45466385 0.54059669 ... 0.         1.         0.        ]]\n"
          ]
        }
      ],
      "source": [
        "print(x_tr)"
      ]
    },
    {
      "cell_type": "code",
      "execution_count": null,
      "metadata": {
        "id": "T84eO0Yr8_10"
      },
      "outputs": [],
      "source": [
        "from keras.layers import Dense\n",
        "from keras.models import Sequential\n",
        "from tensorflow.keras.layers import Dense,Activation,Flatten,Dropout\n",
        "from tensorflow.keras.optimizers import Adam,SGD"
      ]
    },
    {
      "cell_type": "code",
      "execution_count": null,
      "metadata": {
        "id": "qfH7RkYj8_10",
        "outputId": "0b1c9b44-9391-4e2d-981b-946827e205f4"
      },
      "outputs": [
        {
          "name": "stdout",
          "output_type": "stream",
          "text": [
            "Model: \"sequential_43\"\n",
            "_________________________________________________________________\n",
            " Layer (type)                Output Shape              Param #   \n",
            "=================================================================\n",
            " dense_118 (Dense)           (None, 64)                2688      \n",
            "                                                                 \n",
            " dense_119 (Dense)           (None, 128)               8320      \n",
            "                                                                 \n",
            " dense_120 (Dense)           (None, 128)               16512     \n",
            "                                                                 \n",
            " dropout_25 (Dropout)        (None, 128)               0         \n",
            "                                                                 \n",
            " dense_121 (Dense)           (None, 2)                 258       \n",
            "                                                                 \n",
            "=================================================================\n",
            "Total params: 27,778\n",
            "Trainable params: 27,778\n",
            "Non-trainable params: 0\n",
            "_________________________________________________________________\n"
          ]
        }
      ],
      "source": [
        "mdl=Sequential()\n",
        "mdl.add(Dense(64,activation='relu',input_shape=(41,)))\n",
        "mdl.add(Dense(128,activation='relu'))\n",
        "mdl.add(Dense(128,activation='relu'))\n",
        "mdl.add(Dropout(0.5))\n",
        "mdl.add(Dense(2,activation='softmax'))\n",
        "mdl.summary()"
      ]
    },
    {
      "cell_type": "code",
      "execution_count": null,
      "metadata": {
        "id": "UFR-yGJ48_11"
      },
      "outputs": [],
      "source": [
        "mdl.compile(loss=\"sparse_categorical_crossentropy\",optimizer=\"adam\",metrics=[\"accuracy\"])"
      ]
    },
    {
      "cell_type": "code",
      "execution_count": null,
      "metadata": {
        "id": "SP3nA42f8_11",
        "outputId": "957e7f58-36d1-4c69-c629-37e070464d56"
      },
      "outputs": [
        {
          "name": "stdout",
          "output_type": "stream",
          "text": [
            "Epoch 1/30\n",
            "1334/1334 [==============================] - 2s 1ms/step - loss: 0.4551 - accuracy: 0.7911 - val_loss: 0.4171 - val_accuracy: 0.8098\n",
            "Epoch 2/30\n",
            "1334/1334 [==============================] - 1s 1ms/step - loss: 0.4223 - accuracy: 0.8098 - val_loss: 0.4119 - val_accuracy: 0.8118\n",
            "Epoch 3/30\n",
            "1334/1334 [==============================] - 2s 1ms/step - loss: 0.4118 - accuracy: 0.8134 - val_loss: 0.4061 - val_accuracy: 0.8146\n",
            "Epoch 4/30\n",
            "1334/1334 [==============================] - 2s 1ms/step - loss: 0.4019 - accuracy: 0.8181 - val_loss: 0.3856 - val_accuracy: 0.8214\n",
            "Epoch 5/30\n",
            "1334/1334 [==============================] - 2s 1ms/step - loss: 0.3898 - accuracy: 0.8252 - val_loss: 0.3811 - val_accuracy: 0.8266\n",
            "Epoch 6/30\n",
            "1334/1334 [==============================] - 2s 1ms/step - loss: 0.3759 - accuracy: 0.8310 - val_loss: 0.3689 - val_accuracy: 0.8320\n",
            "Epoch 7/30\n",
            "1334/1334 [==============================] - 2s 1ms/step - loss: 0.3638 - accuracy: 0.8386 - val_loss: 0.3577 - val_accuracy: 0.8370\n",
            "Epoch 8/30\n",
            "1334/1334 [==============================] - 2s 1ms/step - loss: 0.3486 - accuracy: 0.8447 - val_loss: 0.3403 - val_accuracy: 0.8504\n",
            "Epoch 9/30\n",
            "1334/1334 [==============================] - 2s 2ms/step - loss: 0.3357 - accuracy: 0.8531 - val_loss: 0.3239 - val_accuracy: 0.8617\n",
            "Epoch 10/30\n",
            "1334/1334 [==============================] - 2s 2ms/step - loss: 0.3224 - accuracy: 0.8621 - val_loss: 0.3129 - val_accuracy: 0.8675\n",
            "Epoch 11/30\n",
            "1334/1334 [==============================] - 2s 2ms/step - loss: 0.3087 - accuracy: 0.8680 - val_loss: 0.3103 - val_accuracy: 0.8700\n",
            "Epoch 12/30\n",
            "1334/1334 [==============================] - 2s 1ms/step - loss: 0.2958 - accuracy: 0.8744 - val_loss: 0.2911 - val_accuracy: 0.8796\n",
            "Epoch 13/30\n",
            "1334/1334 [==============================] - 2s 2ms/step - loss: 0.2836 - accuracy: 0.8814 - val_loss: 0.2887 - val_accuracy: 0.8801\n",
            "Epoch 14/30\n",
            "1334/1334 [==============================] - 2s 1ms/step - loss: 0.2745 - accuracy: 0.8846 - val_loss: 0.2808 - val_accuracy: 0.8863\n",
            "Epoch 15/30\n",
            "1334/1334 [==============================] - 2s 2ms/step - loss: 0.2625 - accuracy: 0.8918 - val_loss: 0.2678 - val_accuracy: 0.8926\n",
            "Epoch 16/30\n",
            "1334/1334 [==============================] - 2s 1ms/step - loss: 0.2533 - accuracy: 0.8971 - val_loss: 0.2629 - val_accuracy: 0.8952\n",
            "Epoch 17/30\n",
            "1334/1334 [==============================] - 2s 2ms/step - loss: 0.2434 - accuracy: 0.9009 - val_loss: 0.2675 - val_accuracy: 0.8946\n",
            "Epoch 18/30\n",
            "1334/1334 [==============================] - 2s 1ms/step - loss: 0.2393 - accuracy: 0.9024 - val_loss: 0.2662 - val_accuracy: 0.8947\n",
            "Epoch 19/30\n",
            "1334/1334 [==============================] - 2s 1ms/step - loss: 0.2299 - accuracy: 0.9072 - val_loss: 0.2380 - val_accuracy: 0.9088\n",
            "Epoch 20/30\n",
            "1334/1334 [==============================] - 2s 1ms/step - loss: 0.2235 - accuracy: 0.9110 - val_loss: 0.2476 - val_accuracy: 0.9063\n",
            "Epoch 21/30\n",
            "1334/1334 [==============================] - 2s 2ms/step - loss: 0.2145 - accuracy: 0.9157 - val_loss: 0.2385 - val_accuracy: 0.9099\n",
            "Epoch 22/30\n",
            "1334/1334 [==============================] - 2s 1ms/step - loss: 0.2135 - accuracy: 0.9158 - val_loss: 0.2579 - val_accuracy: 0.8992\n",
            "Epoch 23/30\n",
            "1334/1334 [==============================] - 2s 1ms/step - loss: 0.2050 - accuracy: 0.9188 - val_loss: 0.2274 - val_accuracy: 0.9162\n",
            "Epoch 24/30\n",
            "1334/1334 [==============================] - 2s 1ms/step - loss: 0.2029 - accuracy: 0.9199 - val_loss: 0.2390 - val_accuracy: 0.9106\n",
            "Epoch 25/30\n",
            "1334/1334 [==============================] - 2s 2ms/step - loss: 0.1968 - accuracy: 0.9241 - val_loss: 0.2423 - val_accuracy: 0.9093\n",
            "Epoch 26/30\n",
            "1334/1334 [==============================] - 2s 1ms/step - loss: 0.1919 - accuracy: 0.9257 - val_loss: 0.2181 - val_accuracy: 0.9203\n",
            "Epoch 27/30\n",
            "1334/1334 [==============================] - 2s 1ms/step - loss: 0.1858 - accuracy: 0.9268 - val_loss: 0.2284 - val_accuracy: 0.9157\n",
            "Epoch 28/30\n",
            "1334/1334 [==============================] - 2s 2ms/step - loss: 0.1799 - accuracy: 0.9305 - val_loss: 0.2056 - val_accuracy: 0.9269\n",
            "Epoch 29/30\n",
            "1334/1334 [==============================] - 2s 1ms/step - loss: 0.1765 - accuracy: 0.9321 - val_loss: 0.2271 - val_accuracy: 0.9171\n",
            "Epoch 30/30\n",
            "1334/1334 [==============================] - 2s 1ms/step - loss: 0.1738 - accuracy: 0.9331 - val_loss: 0.2201 - val_accuracy: 0.9193\n"
          ]
        },
        {
          "data": {
            "text/plain": [
              "<keras.callbacks.History at 0x1f182fc84c0>"
            ]
          },
          "execution_count": 300,
          "metadata": {},
          "output_type": "execute_result"
        }
      ],
      "source": [
        "mdl.fit(x_tr,y_tr,epochs=30,validation_split=0.2,verbose=1)"
      ]
    },
    {
      "cell_type": "code",
      "execution_count": null,
      "metadata": {
        "id": "T5u_fRTO8_11",
        "outputId": "00801cc7-65b9-42e8-fd69-68087413e80a"
      },
      "outputs": [
        {
          "name": "stdout",
          "output_type": "stream",
          "text": [
            "              precision    recall  f1-score   support\n",
            "\n",
            "           0       0.95      0.89      0.92      8806\n",
            "           1       0.90      0.95      0.92      8980\n",
            "\n",
            "    accuracy                           0.92     17786\n",
            "   macro avg       0.92      0.92      0.92     17786\n",
            "weighted avg       0.92      0.92      0.92     17786\n",
            "\n"
          ]
        }
      ],
      "source": [
        "y_pre=mdl.predict(x_te)\n",
        "pred=lb.inverse_transform(y_pre)\n",
        "print(classification_report(y_te,pred))"
      ]
    },
    {
      "cell_type": "markdown",
      "metadata": {
        "id": "RNQyUEZw8_11"
      },
      "source": [
        "## **Random** **Under** **Sampling** **with** **Near** **Miss Algorithm**"
      ]
    },
    {
      "cell_type": "code",
      "execution_count": null,
      "metadata": {
        "id": "oVcI1msi8_12"
      },
      "outputs": [],
      "source": [
        "from imblearn.under_sampling import NearMiss\n",
        "nr = NearMiss()\n",
        "X_nr,y_nr=nr.fit_resample(X,y)"
      ]
    },
    {
      "cell_type": "code",
      "execution_count": null,
      "metadata": {
        "id": "8M_7N1Ax8_12",
        "outputId": "a56226c8-1167-4622-e56a-2f80e2f6492c"
      },
      "outputs": [
        {
          "name": "stdout",
          "output_type": "stream",
          "text": [
            "[[0]\n",
            " [0]\n",
            " [0]\n",
            " ...\n",
            " [1]\n",
            " [1]\n",
            " [1]]\n"
          ]
        },
        {
          "data": {
            "text/plain": [
              "(3016, 1)"
            ]
          },
          "execution_count": 303,
          "metadata": {},
          "output_type": "execute_result"
        }
      ],
      "source": [
        "y_nr=lb.fit_transform(y_nr)\n",
        "print(y_nr)\n",
        "y_nr.shape"
      ]
    },
    {
      "cell_type": "code",
      "execution_count": null,
      "metadata": {
        "id": "RQPA8szp8_12"
      },
      "outputs": [],
      "source": [
        "x_tr2,x_te2,y_tr2,y_te2 = train_test_split(X_nr, y_nr, test_size=0.25, random_state=0)"
      ]
    },
    {
      "cell_type": "code",
      "execution_count": null,
      "metadata": {
        "id": "MvJBjqwm8_13"
      },
      "outputs": [],
      "source": [
        "x_tr2=np.array(x_tr2)\n",
        "y_tr2=np.array(y_tr2)\n",
        "x_te2=np.array(x_te2)\n",
        "y_te2=np.array(y_te2)"
      ]
    },
    {
      "cell_type": "code",
      "execution_count": null,
      "metadata": {
        "id": "W0CjftiP8_13",
        "outputId": "68f31f6c-be37-471f-eea1-45a6f05d017a"
      },
      "outputs": [
        {
          "name": "stdout",
          "output_type": "stream",
          "text": [
            "Model: \"sequential_49\"\n",
            "_________________________________________________________________\n",
            " Layer (type)                Output Shape              Param #   \n",
            "=================================================================\n",
            " dense_145 (Dense)           (None, 64)                2688      \n",
            "                                                                 \n",
            " dense_146 (Dense)           (None, 128)               8320      \n",
            "                                                                 \n",
            " dense_147 (Dense)           (None, 128)               16512     \n",
            "                                                                 \n",
            " dropout_31 (Dropout)        (None, 128)               0         \n",
            "                                                                 \n",
            " dense_148 (Dense)           (None, 2)                 258       \n",
            "                                                                 \n",
            "=================================================================\n",
            "Total params: 27,778\n",
            "Trainable params: 27,778\n",
            "Non-trainable params: 0\n",
            "_________________________________________________________________\n"
          ]
        }
      ],
      "source": [
        "mdl2=Sequential()\n",
        "mdl2.add(Dense(64,activation='relu',input_shape=(41,)))\n",
        "mdl2.add(Dense(128,activation='relu'))\n",
        "mdl2.add(Dense(128,activation='relu'))\n",
        "mdl2.add(Dropout(0.5))\n",
        "mdl2.add(Dense(2,activation='softmax'))\n",
        "mdl2.summary()\n",
        "mdl2.compile(loss=\"sparse_categorical_crossentropy\",optimizer=\"adam\",metrics=[\"accuracy\"])"
      ]
    },
    {
      "cell_type": "code",
      "execution_count": null,
      "metadata": {
        "id": "7xrqM-IF8_14",
        "outputId": "a7283fb9-1bc6-4de7-8714-5182c1e4aeb2"
      },
      "outputs": [
        {
          "name": "stdout",
          "output_type": "stream",
          "text": [
            "Epoch 1/30\n",
            "57/57 [==============================] - 0s 3ms/step - loss: 0.6115 - accuracy: 0.6827 - val_loss: 0.5337 - val_accuracy: 0.7351\n",
            "Epoch 2/30\n",
            "57/57 [==============================] - 0s 2ms/step - loss: 0.5467 - accuracy: 0.7159 - val_loss: 0.5114 - val_accuracy: 0.7351\n",
            "Epoch 3/30\n",
            "57/57 [==============================] - 0s 2ms/step - loss: 0.5191 - accuracy: 0.7402 - val_loss: 0.5112 - val_accuracy: 0.7528\n",
            "Epoch 4/30\n",
            "57/57 [==============================] - 0s 2ms/step - loss: 0.5087 - accuracy: 0.7485 - val_loss: 0.4852 - val_accuracy: 0.7528\n",
            "Epoch 5/30\n",
            "57/57 [==============================] - 0s 2ms/step - loss: 0.5041 - accuracy: 0.7413 - val_loss: 0.4849 - val_accuracy: 0.7682\n",
            "Epoch 6/30\n",
            "57/57 [==============================] - 0s 2ms/step - loss: 0.4962 - accuracy: 0.7446 - val_loss: 0.5240 - val_accuracy: 0.7307\n",
            "Epoch 7/30\n",
            "57/57 [==============================] - 0s 2ms/step - loss: 0.4899 - accuracy: 0.7512 - val_loss: 0.5064 - val_accuracy: 0.7351\n",
            "Epoch 8/30\n",
            "57/57 [==============================] - 0s 2ms/step - loss: 0.4778 - accuracy: 0.7590 - val_loss: 0.4635 - val_accuracy: 0.7616\n",
            "Epoch 9/30\n",
            "57/57 [==============================] - 0s 2ms/step - loss: 0.4756 - accuracy: 0.7579 - val_loss: 0.4559 - val_accuracy: 0.7616\n",
            "Epoch 10/30\n",
            "57/57 [==============================] - 0s 2ms/step - loss: 0.4585 - accuracy: 0.7667 - val_loss: 0.4436 - val_accuracy: 0.7726\n",
            "Epoch 11/30\n",
            "57/57 [==============================] - 0s 2ms/step - loss: 0.4601 - accuracy: 0.7711 - val_loss: 0.4415 - val_accuracy: 0.7726\n",
            "Epoch 12/30\n",
            "57/57 [==============================] - 0s 2ms/step - loss: 0.4639 - accuracy: 0.7695 - val_loss: 0.4398 - val_accuracy: 0.7792\n",
            "Epoch 13/30\n",
            "57/57 [==============================] - 0s 2ms/step - loss: 0.4493 - accuracy: 0.7789 - val_loss: 0.4332 - val_accuracy: 0.7903\n",
            "Epoch 14/30\n",
            "57/57 [==============================] - 0s 2ms/step - loss: 0.4410 - accuracy: 0.7822 - val_loss: 0.4310 - val_accuracy: 0.7792\n",
            "Epoch 15/30\n",
            "57/57 [==============================] - 0s 2ms/step - loss: 0.4506 - accuracy: 0.7722 - val_loss: 0.4337 - val_accuracy: 0.7837\n",
            "Epoch 16/30\n",
            "57/57 [==============================] - 0s 2ms/step - loss: 0.4484 - accuracy: 0.7772 - val_loss: 0.4211 - val_accuracy: 0.7859\n",
            "Epoch 17/30\n",
            "57/57 [==============================] - 0s 2ms/step - loss: 0.4451 - accuracy: 0.7888 - val_loss: 0.4216 - val_accuracy: 0.7947\n",
            "Epoch 18/30\n",
            "57/57 [==============================] - 0s 2ms/step - loss: 0.4349 - accuracy: 0.7944 - val_loss: 0.4400 - val_accuracy: 0.7726\n",
            "Epoch 19/30\n",
            "57/57 [==============================] - 0s 2ms/step - loss: 0.4350 - accuracy: 0.7910 - val_loss: 0.4566 - val_accuracy: 0.7616\n",
            "Epoch 20/30\n",
            "57/57 [==============================] - 0s 2ms/step - loss: 0.4265 - accuracy: 0.7944 - val_loss: 0.4377 - val_accuracy: 0.7837\n",
            "Epoch 21/30\n",
            "57/57 [==============================] - 0s 2ms/step - loss: 0.4501 - accuracy: 0.7783 - val_loss: 0.4291 - val_accuracy: 0.7792\n",
            "Epoch 22/30\n",
            "57/57 [==============================] - 0s 2ms/step - loss: 0.4216 - accuracy: 0.7927 - val_loss: 0.4176 - val_accuracy: 0.7925\n",
            "Epoch 23/30\n",
            "57/57 [==============================] - 0s 2ms/step - loss: 0.4255 - accuracy: 0.7993 - val_loss: 0.4141 - val_accuracy: 0.7969\n",
            "Epoch 24/30\n",
            "57/57 [==============================] - 0s 2ms/step - loss: 0.4178 - accuracy: 0.8032 - val_loss: 0.4274 - val_accuracy: 0.7903\n",
            "Epoch 25/30\n",
            "57/57 [==============================] - 0s 2ms/step - loss: 0.4127 - accuracy: 0.8087 - val_loss: 0.4809 - val_accuracy: 0.7660\n",
            "Epoch 26/30\n",
            "57/57 [==============================] - 0s 2ms/step - loss: 0.4270 - accuracy: 0.8021 - val_loss: 0.4427 - val_accuracy: 0.8057\n",
            "Epoch 27/30\n",
            "57/57 [==============================] - 0s 2ms/step - loss: 0.4083 - accuracy: 0.7988 - val_loss: 0.4521 - val_accuracy: 0.7991\n",
            "Epoch 28/30\n",
            "57/57 [==============================] - 0s 2ms/step - loss: 0.4237 - accuracy: 0.7982 - val_loss: 0.4464 - val_accuracy: 0.7815\n",
            "Epoch 29/30\n",
            "57/57 [==============================] - 0s 2ms/step - loss: 0.4084 - accuracy: 0.8060 - val_loss: 0.4323 - val_accuracy: 0.8035\n",
            "Epoch 30/30\n",
            "57/57 [==============================] - 0s 2ms/step - loss: 0.3994 - accuracy: 0.8115 - val_loss: 0.4074 - val_accuracy: 0.7969\n"
          ]
        },
        {
          "data": {
            "text/plain": [
              "<keras.callbacks.History at 0x1f18cbef8b0>"
            ]
          },
          "execution_count": 325,
          "metadata": {},
          "output_type": "execute_result"
        }
      ],
      "source": [
        "mdl2.fit(x_tr2,y_tr2,epochs=30,validation_split=0.2,verbose=1)"
      ]
    },
    {
      "cell_type": "code",
      "execution_count": null,
      "metadata": {
        "id": "zzC_O8OV8_14",
        "outputId": "8b60bd9d-f492-49cf-9673-74626a6372e8"
      },
      "outputs": [
        {
          "name": "stdout",
          "output_type": "stream",
          "text": [
            "              precision    recall  f1-score   support\n",
            "\n",
            "           0       0.84      0.55      0.66       402\n",
            "           1       0.63      0.88      0.73       352\n",
            "\n",
            "    accuracy                           0.70       754\n",
            "   macro avg       0.73      0.71      0.70       754\n",
            "weighted avg       0.74      0.70      0.70       754\n",
            "\n"
          ]
        }
      ],
      "source": [
        "y_pre2=mdl.predict(x_te2)\n",
        "pred2=lb.inverse_transform(y_pre2)\n",
        "print(classification_report(y_te2,pred2))"
      ]
    }
  ],
  "metadata": {
    "kernelspec": {
      "display_name": "Python 3 (ipykernel)",
      "language": "python",
      "name": "python3"
    },
    "language_info": {
      "codemirror_mode": {
        "name": "ipython",
        "version": 3
      },
      "file_extension": ".py",
      "mimetype": "text/x-python",
      "name": "python",
      "nbconvert_exporter": "python",
      "pygments_lexer": "ipython3",
      "version": "3.9.7"
    },
    "colab": {
      "provenance": []
    }
  },
  "nbformat": 4,
  "nbformat_minor": 0
}